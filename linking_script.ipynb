{
 "cells": [
  {
   "cell_type": "markdown",
   "metadata": {},
   "source": [
    "<div style=\"background-color: #007BFF; height: 4px; width: 100%;\"></div>"
   ]
  },
  {
   "cell_type": "markdown",
   "metadata": {},
   "source": [
    "# **Linking SURF 2020-2023**\n",
    "\n",
    "In this Notebook, we will use the linking questions from the SURF survey to connect students' responses over the 4 year period.\n",
    "\n",
    "**2020/2021 Linking Questions**\n",
    "- SBJ.FCT.Link.BirthMonth\n",
    "- SBJ.FCT.Link.OlderSiblings\n",
    "- SBJ.FCT.Link.EyeColor\n",
    "- SBJ.FCT.Link.MiddleInitial\n",
    "- SBJ.CHR.Link.Streetname\n",
    "- SBJ.INT.Link.KindergartenYearEst\n",
    "\n",
    "**2022/2023 Linking Questions**\n",
    "- SBJ.FCT.Link.BirthMonth\n",
    "- SBJ.FCT.Link.Name3rdLetter (additional)\n",
    "- SBJ.FCT.Link.OlderSiblings\n",
    "- SBJ.FCT.Link.EyeColor\n",
    "- SBJ.FCT.Link.MiddleInitial\n",
    "- SBJ.CHR.Link.Streetname\n",
    "- SBJ.INT.Link.KindergartenYearEst"
   ]
  },
  {
   "cell_type": "markdown",
   "metadata": {},
   "source": [
    "<div style=\"background-color: #007BFF; height: 4px; width: 100%;\"></div>"
   ]
  },
  {
   "cell_type": "markdown",
   "metadata": {},
   "source": [
    "### **Linking SURF 2020 and 2021 Responses**"
   ]
  },
  {
   "cell_type": "code",
   "execution_count": 3,
   "metadata": {},
   "outputs": [],
   "source": [
    "import pandas as pd\n",
    "import matplotlib.pyplot as plt\n",
    "from itertools import combinations\n",
    "from collections import defaultdict"
   ]
  },
  {
   "cell_type": "code",
   "execution_count": 4,
   "metadata": {},
   "outputs": [
    {
     "name": "stderr",
     "output_type": "stream",
     "text": [
      "/var/folders/sk/hy6bzzbx4rd98zc284jmxmkm0000gn/T/ipykernel_4428/2826611207.py:3: DtypeWarning: Columns (129,130,131) have mixed types. Specify dtype option on import or set low_memory=False.\n",
      "  surf2021 = pd.read_csv(\"data/SY2021.csv\")\n"
     ]
    }
   ],
   "source": [
    "# Read data\n",
    "surf2020 = pd.read_csv(\"data/SY2020.csv\")\n",
    "surf2021 = pd.read_csv(\"data/SY2021.csv\")"
   ]
  },
  {
   "cell_type": "code",
   "execution_count": 3,
   "metadata": {},
   "outputs": [],
   "source": [
    "linking_qs = [\n",
    "    \"SBJ.FCT.Link.BirthMonth\",\n",
    "    \"SBJ.FCT.Link.OlderSiblings\",\n",
    "    \"SBJ.FCT.Link.EyeColor\",\n",
    "    \"SBJ.FCT.Link.MiddleInitial\",\n",
    "    \"SBJ.CHR.Link.Streetname\",\n",
    "    \"SBJ.INT.Link.KindergartenYearEst\"\n",
    "]"
   ]
  },
  {
   "cell_type": "code",
   "execution_count": 4,
   "metadata": {},
   "outputs": [
    {
     "name": "stdout",
     "output_type": "stream",
     "text": [
      "SURF2020 Cleaned\n",
      "SBJ.FCT.Link.BirthMonth             0\n",
      "SBJ.FCT.Link.OlderSiblings          0\n",
      "SBJ.FCT.Link.EyeColor               0\n",
      "SBJ.FCT.Link.MiddleInitial          0\n",
      "SBJ.CHR.Link.Streetname             0\n",
      "SBJ.INT.Link.KindergartenYearEst    0\n",
      "dtype: int64\n",
      "\n",
      "SURF2021 Cleaned\n",
      "SBJ.FCT.Link.BirthMonth             0\n",
      "SBJ.FCT.Link.OlderSiblings          0\n",
      "SBJ.FCT.Link.EyeColor               0\n",
      "SBJ.FCT.Link.MiddleInitial          0\n",
      "SBJ.CHR.Link.Streetname             0\n",
      "SBJ.INT.Link.KindergartenYearEst    0\n",
      "dtype: int64\n"
     ]
    }
   ],
   "source": [
    "surf2020_cleaned = surf2020.dropna(subset=linking_qs)\n",
    "surf2021_cleaned = surf2021.dropna(subset=linking_qs)\n",
    "\n",
    "print(\"SURF2020 Cleaned\")\n",
    "print(surf2020_cleaned[linking_qs].isnull().sum())\n",
    "print(\"\\nSURF2021 Cleaned\")\n",
    "print(surf2021_cleaned[linking_qs].isnull().sum())"
   ]
  },
  {
   "cell_type": "code",
   "execution_count": 5,
   "metadata": {},
   "outputs": [],
   "source": [
    "surf2020_cleaned = surf2020_cleaned.reset_index()\n",
    "surf2021_cleaned = surf2021_cleaned.reset_index()"
   ]
  },
  {
   "cell_type": "code",
   "execution_count": 6,
   "metadata": {},
   "outputs": [
    {
     "name": "stdout",
     "output_type": "stream",
     "text": [
      "IDX.INT.Origin.Record\n",
      "IDX.INT.Origin.Database\n",
      "SSS.INT.School.Code\n",
      "SSS.CHR.GradesSurveyed\n",
      "SSS.INT.Fifth.Grade.Enrollment\n",
      "SSS.INT.Sixth.Grade.Enrollment\n",
      "SSS.INT.Seventh.Grade.Enrollment\n",
      "SSS.INT.Eighth.Grade.Enrollment\n",
      "SSS.INT.Ninth.Grade.Enrollment\n",
      "SSS.INT.Tenth.Grade.Enrollment\n",
      "SSS.INT.Eleventh.Grade.Enrollment\n",
      "SSS.INT.Twelfth.Grade.Enrollment\n",
      "SSS.INT.Grade\n",
      "SSS.INT.Cohort\n",
      "SSS.INT.Age\n",
      "SSS.DBL.Completion.SY20.SY21\n",
      "SSS.DTM.Survey\n",
      "SSS.DTM.ContactPage\n",
      "SSS.INT.SurveyYear\n",
      "SSS.INT.District.Code\n",
      "SBJ.FCT.Sex\n",
      "SBJ.FCT.GenderId\n",
      "SBJ.CHR.Gender.Other\n",
      "SBJ.LGL.Race.White\n",
      "SBJ.LGL.Race.HaitianBlackAfricanAmerican\n",
      "SBJ.LGL.Race.Asian\n",
      "SBJ.LGL.Race.HawaiianPacificIslander\n",
      "SBJ.LGL.Race.AmericanIndianAlaskaNative\n",
      "SBJ.LGL.Race.MiddleEasternNorthAfrican\n",
      "SBJ.LGL.Race.Other\n",
      "SBJ.LGL.Race.Multiple\n",
      "SBJ.FCT.Race\n",
      "SBJ.FCT.Ethnicity\n",
      "SBJ.FCT.Sexuality\n",
      "SBJ.CHR.SexualOrientation.Other\n",
      "SBJ.FCT.Link.BirthMonth\n",
      "SBJ.FCT.Link.OlderSiblings\n",
      "SBJ.FCT.Link.EyeColor\n",
      "SBJ.FCT.Link.MiddleInitial\n",
      "SBJ.CHR.Link.Streetname\n",
      "SBJ.INT.Link.KindergartenYearEst\n",
      "INV.DBL.APSS.Q1.MindReading\n",
      "INV.DBL.APSS.Q2.TVRadio\n",
      "INV.DBL.APSS.Q3.Spying\n",
      "INV.DBL.APSS.Q4.Auditory\n",
      "INV.DBL.APSS.Q5.Controlled\n",
      "INV.DBL.APSS.Q6.Visual\n",
      "INV.DBL.APSS.Q7.Grandiosity\n",
      "INV.DBL.APSS.Total\n",
      "INV.INT.PHQ4.Q1.Anxious\n",
      "INV.INT.PHQ4.Q2.Worried\n",
      "INV.INT.PHQ4.Q3.Depressed\n",
      "INV.INT.PHQ4.Q4.Anhedonia\n",
      "INV.INT.PHQ4.Depression\n",
      "INV.INT.PHQ4.Anxiety\n",
      "INV.LGL.PHQ4.Anxiety\n",
      "INV.LGL.PHQ4.Depression\n",
      "INV.INT.PHQ4.Total\n",
      "INV.FCT.PHQ4.Total\n",
      "INV.INT.ERS.Q01.Persistence1\n",
      "INV.INT.ERS.Q02.Sensitivity1\n",
      "INV.INT.ERS.Q03.IntensityArousal1\n",
      "INV.INT.ERS.Q04.IntensityArousal2\n",
      "INV.INT.ERS.Q05.Sensitivity2\n",
      "INV.INT.ERS.Q06.IntensityArousal3\n",
      "INV.INT.ERS.Q07.Sensitivity3\n",
      "INV.INT.ERS.Q08.Persistence2\n",
      "INV.INT.ERS.Q09.Sensitivity4\n",
      "INV.INT.ERS.Q10.Persistence3\n",
      "INV.INT.ERS.Q11.Persistence4\n",
      "INV.INT.ERS.Q12.Sensitivity5\n",
      "INV.INT.ERS.Q13.Sensitivity6\n",
      "INV.INT.ERS.Q14.Sensitivity7\n",
      "INV.INT.ERS.Q15.Sensitivity8\n",
      "INV.INT.ERS.Q16.Sensitivity9\n",
      "INV.INT.ERS.Q17.IntensityArousal4\n",
      "INV.INT.ERS.Q18.Sensitivity10\n",
      "INV.INT.ERS.Q19.IntensityArousal5\n",
      "INV.INT.ERS.Q20.IntensityArousal6\n",
      "INV.INT.ERS.Q21.IntensityArousal7\n",
      "INV.INT.ERS.PersistenceTotal\n",
      "INV.INT.ERS.SensitivityTotal\n",
      "INV.INT.ERS.IntensityArousalTotal\n",
      "INV.INT.ERS.Total\n",
      "INV.INT.CEQISF.Q01.Awareness\n",
      "INV.INT.CEQISF.Q02.Paranoid\n",
      "INV.INT.CEQISF.Q03.FeelingThreat\n",
      "INV.INT.CEQISF.Q04.Sentimental\n",
      "INV.INT.CEQISF.Q05.WorldBetter\n",
      "INV.INT.CEQISF.Q06.CrazyMad\n",
      "INV.INT.CEQISF.Q07.Depressed\n",
      "INV.INT.CEQISF.Q08.Disturbed\n",
      "INV.INT.CEQISF.Q09.NotKnowSelf\n",
      "INV.INT.CEQISF.Q10.Ecstatic\n",
      "INV.INT.CEQISF.Q11.Creative\n",
      "INV.INT.CEQISF.Q12.NotRightInBody\n",
      "INV.INT.CEQISF.Q13.FullOfIdeas\n",
      "INV.INT.CEQISF.ParanoidDysphoric\n",
      "INV.INT.CEQISF.Euphoric\n",
      "VST.INT.PDS6.Check.S1007\n",
      "INV.INT.PDS6.Q1.Irritable\n",
      "INV.INT.PDS6.Q2.Stressed\n",
      "INV.INT.PDS6.Q3.WantAfterWake\n",
      "INV.INT.PDS6.Q4.CantIgnore\n",
      "INV.INT.PDS6.Q5.InterruptThink\n",
      "INV.INT.PDS6.Q6.UseFeelNormal\n",
      "INV.INT.PDS6.Total\n",
      "INV.LGL.HelpSeeking1\n",
      "INV.LGL.HelpSeeking2\n",
      "INV.LGL.HelpSeeking3\n",
      "INV.LGL.HelpSeeking4\n",
      "INV.LGL.HelpSeeking5\n",
      "INV.LGL.HelpSeeking6\n",
      "INV.LGL.HelpSeeking7\n",
      "INV.LGL.HelpSeeking8\n",
      "INV.LGL.HelpSeeking9\n",
      "INV.LGL.HelpSeeking10\n",
      "INV.LGL.HelpSeeking11\n",
      "INV.LGL.HelpSeeking12\n",
      "INV.LGL.HelpSeeking13\n",
      "INV.LGL.HelpSeeking0\n",
      "INV.CHR.HelpSeeking.Other\n",
      "INV.LGL.SUB.Alcohol.Ever\n",
      "INV.LGL.SUB.Cannabis.Ever\n",
      "INV.LGL.SUB.Cigarette.Ever\n",
      "INV.LGL.SUB.Oral.Ever\n",
      "INV.LGL.SUB.Cigarillo.Ever\n",
      "INV.LGL.SUB.Hookah.Ever\n",
      "INV.LGL.SUB.Vapes.Ever\n",
      "INV.LGL.SUB.Juul.Ever\n",
      "INV.LGL.SUB.ECig.Ever\n",
      "INV.LGL.SUB.OtherTobacco.Ever\n",
      "INV.INT.SUB.Alcohol.LifeF\n",
      "INV.INT.SUB.Cannabis.LifeF\n",
      "INV.INT.SUB.Cigarette.LifeF\n",
      "INV.INT.SUB.Cigarillo.LifeF\n",
      "INV.INT.SUB.Oral.LifeF\n",
      "INV.INT.SUB.Hookah.LifeF\n",
      "INV.INT.SUB.Vape.LifeF\n",
      "INV.INT.SUB.Alcohol.Past30\n",
      "INV.INT.SUB.Cannabis.Past30\n",
      "INV.INT.SUB.Cigarettes.Past30\n",
      "INV.INT.SUB.Cigarillo.Past30\n",
      "INV.INT.SUB.Oral.Past30\n",
      "INV.INT.SUB.Hookah.Past30\n",
      "INV.INT.SUB.Vapes.Past30\n",
      "INV.INT.SUB.ECig.Past30\n",
      "INV.INT.SUB.Juul.Past30\n",
      "INV.LGL.SUB.Tobacco.Flavor1.Past30\n",
      "INV.LGL.SUB.Tobacco.Flavor2.Past30\n",
      "INV.LGL.SUB.Tobacco.Flavor3.Past30\n",
      "INV.LGL.SUB.Tobacco.Flavor4.Past30\n",
      "INV.LGL.SUB.Tobacco.Flavor5.Past30\n",
      "INV.INT.SUB.TobaccoOther.Past30\n",
      "INV.INT.SUB.Alcohol.Past90\n",
      "INV.INT.SUB.Cannabis.Past90\n",
      "INV.LGL.SUB.Tobacco.Ever.Prod6\n",
      "INV.LGL.SUB.Tobacco.Ever.Prod1\n",
      "INV.LGL.SUB.Tobacco.Ever.Prod2\n",
      "INV.LGL.SUB.Tobacco.Ever.Prod3\n",
      "INV.LGL.SUB.Tobacco.Ever.Prod4\n",
      "INV.LGL.SUB.Tobacco.Ever.Prod5\n",
      "INV.INT.SUB.Tobacco.Flavor.1st\n",
      "INV.LGL.SUB.Tobacco.Quit30\n",
      "INV.INT.SUB.Tobacco.1st\n",
      "INV.LGL.SUB.Tobacco.Ever30\n",
      "INV.LGL.SUB.Tobacco.Access1\n",
      "INV.LGL.SUB.Tobacco.Access2\n",
      "INV.LGL.SUB.Tobacco.Access3\n",
      "INV.LGL.SUB.Tobacco.Access4\n",
      "INV.LGL.SUB.Tobacco.Access5\n",
      "INV.LGL.SUB.Tobacco.Access6\n",
      "INV.LGL.SUB.Tobacco.Access7\n",
      "INV.LGL.SUB.Tobacco.Access8\n",
      "INV.CHR.SUB.Tobacco.Access9\n",
      "INV.INT.SUB.Tobacco.Age\n",
      "INV.INT.SUB.Cigarrete.Preban\n",
      "INV.LGL.SUB.Cigarette.Brand1\n",
      "INV.LGL.SUB.Cigarette.Brand2\n",
      "INV.LGL.SUB.Cigarette.Brand3\n",
      "INV.LGL.SUB.Cigarette.Brand4\n",
      "INV.LGL.SUB.Cigarette.Brand5\n",
      "INV.LGL.SUB.Cigarette.Brand6\n",
      "INV.LGL.SUB.Cigarette.Brand7\n",
      "INV.LGL.SUB.Cigarette.Brand8\n",
      "INV.LGL.SUB.Cigarette.Brand9\n",
      "INV.LGL.SUB.Cigarette.Brand10\n",
      "INV.LGL.SUB.Cigarette.Brand11\n",
      "INV.INT.SUB.Cigarillo.Preban\n",
      "INV.INT.SUB.Oral.Preban\n",
      "INV.LGL.SUB.Vape.Type1\n",
      "INV.LGL.SUB.Vape.Type2\n",
      "INV.LGL.SUB.Vape.Type3\n",
      "INV.LGL.SUB.Vape.Type4\n",
      "INV.LGL.SUB.Vape.Type5\n",
      "INV.CHR.SUB.Vape.Type6\n",
      "INV.LGL.SUB.Vape.Subst6\n",
      "INV.LGL.SUB.Vape.Subst1\n",
      "INV.LGL.SUB.Vape.Subst2\n",
      "INV.LGL.SUB.Vape.Subst3\n",
      "INV.LGL.SUB.Vape.Subst4\n",
      "INV.LGL.SUB.Vape.Subst5\n",
      "INV.CHR.SUB.Vape.Sub7\n",
      "INV.INT.SUB.Vape.EverAge\n",
      "INV.INT.SUB.Vape.Ever30\n",
      "INV.INT.SUB.Vape.Ever30Age\n",
      "INV.LGL.SUB.Juul.Ever30\n",
      "INV.CHR.SUB.Juul.EverAge\n",
      "INV.INT.SUB.Juul.Preban\n",
      "INV.INT.SUB.ECig.Abstinence\n",
      "INV.INT.SUb.ECig.Preban\n",
      "INV.CHR.SUB.ECig.EverAge\n",
      "INV.INT.SUB.TobaccoOther.Preban\n",
      "INV.INT.COVID.Coping.Q01\n",
      "INV.INT.COVID.Coping.Q02\n",
      "INV.INT.COVID.Coping.Q03\n",
      "INV.INT.COVID.Coping.Q04\n",
      "INV.INT.COVID.Coping.Q05\n",
      "INV.INT.COVID.Coping.Q06\n",
      "INV.INT.COVID.Coping.Q07\n",
      "INV.INT.COVID.Coping.Q08\n",
      "INV.INT.COVID.Coping.Q09\n",
      "INV.INT.COVID.Coping.Q10\n",
      "INV.INT.COVID.Coping.Q11\n",
      "INV.INT.COVID.Coping.Q12\n",
      "INV.INT.COVID.Coping.Q13\n",
      "INV.INT.COVID.Coping.Q14\n",
      "INV.INT.COVID.Coping.Q15\n",
      "INV.INT.COVID.Coping.Q16\n",
      "INV.INT.COVID.Coping.Q17\n",
      "INV.INT.COVID.Coping.Q18\n",
      "INV.INT.COVID.Coping.Q19\n",
      "INV.INT.COVID.Coping.Q20\n",
      "INV.INT.COVID.Mood\n",
      "INV.LGL.COVID.Mood.Why.RemoteLearning\n",
      "INV.LGL.COVID.Mood.Why.FamilyTime\n",
      "INV.LGL.COVID.Mood.Why.Isolation\n",
      "INV.LGL.COVID.Mood.Why.VirtualConnect\n",
      "INV.LGL.COVID.Mood.Why.EatOrSleep\n",
      "INV.LGL.COVID.Mood.Why.Substance\n",
      "INV.LGL.COVID.Mood.Why.PhysicalActivity\n",
      "INV.LGL.COVID.Mood.Why.ScreenTime\n",
      "INV.LGL.COVID.Mood.Why.FreeTime\n",
      "INV.LGL.COVID.Mood.Why.PersonalLoss\n",
      "INV.LGL.COVID.Mood.Why.Other\n",
      "INV.INT.COVID.Mentalhealth.Q1\n",
      "INV.INT.COVID.Mentalhealth.Q2\n",
      "INV.LGL.SUB.Alcohol.Life\n",
      "INV.LGL.SUB.Cannabis.Life\n",
      "INV.LGL.SUB.Cigarettes.Life\n",
      "INV.LGL.SUB.Vapes.Life\n",
      "INV.LGL.SUB.Cigars.Life\n",
      "INV.LGL.SUB.Smokeless.Life\n",
      "INV.INT.SUB.Cigars.Past30\n",
      "INV.INT.SUB.Smokeless.Past30\n",
      "SSS.DBL.PercentOptOutsbyGrades\n",
      "SSS.DBL.PercentOptOutsbySchool\n"
     ]
    }
   ],
   "source": [
    "for col in surf2020.columns:\n",
    "    print(col)"
   ]
  },
  {
   "cell_type": "markdown",
   "metadata": {},
   "source": [
    "_______________________"
   ]
  },
  {
   "cell_type": "markdown",
   "metadata": {},
   "source": [
    "#### **Linking Questions**\n",
    "\n",
    "As shown in the paper *Understanding Adolescent Mental Health Symptom Progression in School-Based Settings: The Substance Use and Risk Factors (SURF) Survey*, allowing one-off errors (\"one-missing\" subsets) in the set of linking questions led to an substantially improved the true positive rate while only slightly diminishing the true negative rate. Additionally, students were reported to answer the eye color, street name questions, and older sibling question least consistently, and the simulated experiment showed that including a subset of questions leaving off street name and eye color lead to the best balance between the true positive and true negative rate.\n"
   ]
  },
  {
   "cell_type": "code",
   "execution_count": 6,
   "metadata": {},
   "outputs": [],
   "source": [
    "# Acceptable linking subsets\n",
    "link_subsets = [linking_qs] + list(combinations(linking_qs, 5))\n",
    "link_subsets.append([\n",
    "    \"SBJ.FCT.Link.BirthMonth\",\n",
    "    \"SBJ.FCT.Link.OlderSiblings\",\n",
    "    \"SBJ.FCT.Link.MiddleInitial\",\n",
    "    \"SBJ.INT.Link.KindergartenYearEst\"\n",
    "])\n",
    "for i in range(len(link_subsets)):\n",
    "    link_subsets[i] = list(link_subsets[i])"
   ]
  },
  {
   "cell_type": "code",
   "execution_count": 7,
   "metadata": {},
   "outputs": [],
   "source": [
    "# For plotting\n",
    "def create_linker(df, linked_subsets):\n",
    "    \"\"\"\n",
    "    Returns a helper function to find the first matching observation in the DataFrame.\n",
    "\n",
    "    Input:\n",
    "        df (pd.DataFrame): The DataFrame to search in.\n",
    "        link_subsets (list of list): List of subsets of column names to check.\n",
    "\n",
    "    Output:\n",
    "        function: A helper function that takes `obs` as input and returns the first matching observation.\n",
    "    \"\"\"\n",
    "    \n",
    "    # For plotting purposes\n",
    "    matches_counts = defaultdict(int)\n",
    "    subset_sizes = defaultdict(int)\n",
    "    gen_counts = defaultdict(int)\n",
    "    linked_ids = set()\n",
    "    \n",
    "    # Find link\n",
    "    def find_link(obs):\n",
    "        for i, subset in enumerate(linked_subsets):\n",
    "            match = df[df[subset].eq(obs[subset]).all(axis=1)]\n",
    "            if not match.empty:\n",
    "                matches_counts[len(match)] += 1\n",
    "                subset_sizes[len(subset)] += 1\n",
    "                gen_counts[len(match) * 10 + len(subset)] += 1\n",
    "                for i in range(len(match)):\n",
    "                    if match.iloc[i][\"index\"] not in linked_ids:\n",
    "                        linked_ids.add(match.iloc[i][\"index\"])\n",
    "                        return match.iloc[0][\"index\"]\n",
    "        return None\n",
    "    \n",
    "    return find_link, matches_counts, subset_sizes, gen_counts, linked_ids"
   ]
  },
  {
   "cell_type": "code",
   "execution_count": 8,
   "metadata": {},
   "outputs": [],
   "source": [
    "find_link, matches_counts, subset_sizes, gen_counts, linked_ids = create_linker(surf2021_cleaned, link_subsets)\n",
    "\n",
    "# Augment data with link matches\n",
    "surf2020_cleaned[\"SBJ.CHR.Matched.ID\"] = surf2020_cleaned.apply(find_link, axis=1)\n",
    "surf2020_cleaned[\"SBJ.LGL.Matched.ID\"] = surf2020_cleaned[\"SBJ.CHR.Matched.ID\"].notnull()"
   ]
  },
  {
   "cell_type": "code",
   "execution_count": 9,
   "metadata": {},
   "outputs": [
    {
     "name": "stdout",
     "output_type": "stream",
     "text": [
      "defaultdict(<class 'int'>, {1: 2557, 2: 210, 3: 100, 4: 44, 7: 14, 5: 14, 8: 5, 6: 9, 9: 2})\n",
      "defaultdict(<class 'int'>, {6: 1378, 5: 1253, 4: 324})\n",
      "defaultdict(<class 'int'>, {16: 1358, 15: 1035, 14: 164, 26: 19, 25: 123, 35: 62, 45: 23, 34: 38, 24: 68, 75: 5, 54: 12, 44: 21, 74: 9, 86: 1, 64: 6, 65: 3, 94: 2, 84: 4, 55: 2})\n"
     ]
    }
   ],
   "source": [
    "print(matches_counts)\n",
    "print(subset_sizes)\n",
    "print(gen_counts)"
   ]
  },
  {
   "cell_type": "code",
   "execution_count": 10,
   "metadata": {},
   "outputs": [
    {
     "data": {
      "image/png": "[encoded data removed]",
      "text/plain": [
       "<Figure size 1500x500 with 3 Axes>"
      ]
     },
     "metadata": {},
     "output_type": "display_data"
    }
   ],
   "source": [
    "matches = [(key // 10, key % 10, value) for key, value in gen_counts.items()]\n",
    "subset_sizes = [4, 5, 6]\n",
    "data_by_subset = {size: [] for size in subset_sizes}\n",
    "\n",
    "for match_count, subset_size, freq in matches:\n",
    "    if subset_size in subset_sizes:\n",
    "        data_by_subset[subset_size].append((match_count, freq))\n",
    "\n",
    "fig, axes = plt.subplots(1, 3, figsize=(15, 5), sharey=True)\n",
    "\n",
    "for i, subset_size in enumerate(subset_sizes):\n",
    "    ax = axes[i]\n",
    "    data = data_by_subset[subset_size]\n",
    "    if data:\n",
    "        match_counts, frequencies = zip(*data)\n",
    "        ax.bar(match_counts, frequencies)\n",
    "        ax.set_title(f\"Subset Size {subset_size}\")\n",
    "        ax.set_xlabel(\"Number of Matches\")\n",
    "        ax.set_ylabel(\"Frequency\")\n",
    "    else:\n",
    "        ax.set_title(f\"Subset Size {subset_size}\")\n",
    "        ax.set_xlabel(\"Number of Matches\")\n",
    "        ax.set_ylabel(\"Frequency\")\n",
    "        ax.text(0.5, 0.5, \"No Data\", ha='center', va='center', transform=ax.transAxes)\n",
    "\n",
    "plt.tight_layout()\n",
    "plt.show()"
   ]
  },
  {
   "cell_type": "code",
   "execution_count": 11,
   "metadata": {},
   "outputs": [
    {
     "name": "stdout",
     "output_type": "stream",
     "text": [
      "Total linked: 2298\n",
      "Original dataset size: 3430\n",
      "Number lost: 1132\n"
     ]
    }
   ],
   "source": [
    "new_size = surf2020_cleaned[\"SBJ.LGL.Matched.ID\"].sum()\n",
    "old_size = len(surf2020_cleaned)\n",
    "\n",
    "print(\"Total linked:\", new_size)\n",
    "print(\"Original dataset size:\", old_size)\n",
    "print(\"Number lost:\", old_size - new_size)"
   ]
  },
  {
   "cell_type": "code",
   "execution_count": 12,
   "metadata": {},
   "outputs": [
    {
     "name": "stdout",
     "output_type": "stream",
     "text": [
      "Successful link!\n"
     ]
    }
   ],
   "source": [
    "surf2020_linked = surf2020_cleaned[surf2020_cleaned[\"SBJ.LGL.Matched.ID\"] == True]\n",
    "surf2021_linked = surf2021_cleaned[surf2021_cleaned[\"index\"].isin(linked_ids)]\n",
    "\n",
    "assert(len(surf2021_linked) == new_size)\n",
    "print(\"Successful link!\")"
   ]
  }
 ],
 "metadata": {
  "kernelspec": {
   "display_name": "cs109a",
   "language": "python",
   "name": "python3"
  },
  "language_info": {
   "codemirror_mode": {
    "name": "ipython",
    "version": 3
   },
   "file_extension": ".py",
   "mimetype": "text/x-python",
   "name": "python",
   "nbconvert_exporter": "python",
   "pygments_lexer": "ipython3",
   "version": "3.12.5"
  }
 },
 "nbformat": 4,
 "nbformat_minor": 2
}
